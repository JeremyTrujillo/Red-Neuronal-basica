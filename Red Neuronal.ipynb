{
  "nbformat": 4,
  "nbformat_minor": 0,
  "metadata": {
    "colab": {
      "name": "FSITrabajo.ipynb",
      "provenance": []
    },
    "kernelspec": {
      "name": "python3",
      "display_name": "Python 3"
    },
    "accelerator": "GPU"
  },
  "cells": [
    {
      "cell_type": "code",
      "metadata": {
        "id": "QFisxk71OULx",
        "colab_type": "code",
        "colab": {}
      },
      "source": [
        "x_size = 150\n",
        "y_size = int(x_size * (2/3))"
      ],
      "execution_count": null,
      "outputs": []
    },
    {
      "cell_type": "code",
      "metadata": {
        "id": "bUfZ3iw5_GKJ",
        "colab_type": "code",
        "colab": {
          "base_uri": "https://localhost:8080/",
          "height": 70
        },
        "outputId": "e2c0780c-b19c-4dc4-b00b-deb91be40db3"
      },
      "source": [
        "# Data source--------\n",
        "from keras.preprocessing.image import ImageDataGenerator\n",
        "\n",
        "train_datagen = ImageDataGenerator(\n",
        "    rescale=1./255,\n",
        "    rotation_range = 30,\n",
        "    zoom_range = 0.1,\n",
        "    horizontal_flip = True\n",
        ")\n",
        "\n",
        "validation_datagen = ImageDataGenerator(\n",
        "    rescale=1./255\n",
        ")\n",
        "\n",
        "train_data = train_datagen.flow_from_directory(\n",
        "    '/content/gdrive/My Drive/DataSets/Train',\n",
        "    target_size=(x_size, y_size),\n",
        "    batch_size = 10,\n",
        "    class_mode='categorical',\n",
        "    interpolation = 'bilinear'\n",
        ")\n",
        "\n",
        "validation_data = validation_datagen.flow_from_directory(\n",
        "    '/content/gdrive/My Drive/DataSets/Validation',\n",
        "    target_size=(x_size, y_size),\n",
        "    batch_size = 10,\n",
        "    class_mode='categorical',\n",
        "    interpolation = 'bilinear')"
      ],
      "execution_count": null,
      "outputs": [
        {
          "output_type": "stream",
          "text": [
            "Using TensorFlow backend.\n"
          ],
          "name": "stderr"
        },
        {
          "output_type": "stream",
          "text": [
            "Found 240 images belonging to 5 classes.\n",
            "Found 60 images belonging to 5 classes.\n"
          ],
          "name": "stdout"
        }
      ]
    },
    {
      "cell_type": "code",
      "metadata": {
        "id": "nGV-wio6AKn5",
        "colab_type": "code",
        "colab": {
          "base_uri": "https://localhost:8080/",
          "height": 125
        },
        "outputId": "fc76f66a-363d-4229-c705-78de31cadd95"
      },
      "source": [
        "from google.colab import drive\n",
        "drive.mount(\"/content/gdrive\")"
      ],
      "execution_count": null,
      "outputs": [
        {
          "output_type": "stream",
          "text": [
            "Go to this URL in a browser: https://accounts.google.com/o/oauth2/auth?client_id=947318989803-6bn6qk8qdgf4n4g3pfee6491hc0brc4i.apps.googleusercontent.com&redirect_uri=urn%3aietf%3awg%3aoauth%3a2.0%3aoob&response_type=code&scope=email%20https%3a%2f%2fwww.googleapis.com%2fauth%2fdocs.test%20https%3a%2f%2fwww.googleapis.com%2fauth%2fdrive%20https%3a%2f%2fwww.googleapis.com%2fauth%2fdrive.photos.readonly%20https%3a%2f%2fwww.googleapis.com%2fauth%2fpeopleapi.readonly\n",
            "\n",
            "Enter your authorization code:\n",
            "··········\n",
            "Mounted at /content/gdrive\n"
          ],
          "name": "stdout"
        }
      ]
    },
    {
      "cell_type": "code",
      "metadata": {
        "id": "La3GQWW4_e99",
        "colab_type": "code",
        "colab": {}
      },
      "source": [
        "# Model--------------\n",
        "import tensorflow as tf\n",
        "from keras.models import Sequential\n",
        "from keras.layers import Dense, Dropout, Flatten, Conv2D, MaxPooling2D\n",
        "from keras.losses import categorical_crossentropy\n",
        "from keras.optimizers import Adadelta\n",
        "\n",
        "model = Sequential()\n",
        "model.add(Conv2D(32, kernel_size=(3, 3), activation='relu', input_shape=(x_size, y_size, 3)))\n",
        "model.add(MaxPooling2D(pool_size=(2, 2)))\n",
        "\n",
        "model.add(Conv2D(64, kernel_size=(4, 3), activation='relu'))\n",
        "model.add(MaxPooling2D(pool_size=(2, 2)))\n",
        "\n",
        "model.add(Conv2D(128, kernel_size=(4, 3), activation='relu'))\n",
        "model.add(MaxPooling2D(pool_size=(2, 2)))\n",
        "\n",
        "model.add(Dropout(0.25))\n",
        "model.add(Flatten())\n",
        "model.add(Dense(128, activation='relu'))\n",
        "model.add(Dropout(0.5))\n",
        "model.add(Dense(5, activation='softmax'))\n",
        "\n",
        "model.compile(loss=categorical_crossentropy,\n",
        "              optimizer=Adadelta(),\n",
        "              metrics=['accuracy'])"
      ],
      "execution_count": null,
      "outputs": []
    },
    {
      "cell_type": "code",
      "metadata": {
        "id": "T_8YS0ZS_lkp",
        "colab_type": "code",
        "colab": {
          "base_uri": "https://localhost:8080/",
          "height": 1000
        },
        "outputId": "c3ef7403-bb07-4047-ee8e-1d783e2ed20e"
      },
      "source": [
        "# Training-----------\n",
        "from keras.callbacks import EarlyStopping\n",
        "\n",
        "es = EarlyStopping(monitor='val_accuracy', mode='max', verbose=1, patience=15, restore_best_weights=True)\n",
        "\n",
        "history = model.fit_generator(\n",
        "        train_data,\n",
        "        epochs=120,\n",
        "        validation_data = validation_data,\n",
        "        callbacks = [es])"
      ],
      "execution_count": null,
      "outputs": [
        {
          "output_type": "stream",
          "text": [
            "Epoch 1/120\n",
            "24/24 [==============================] - 128s 5s/step - loss: 1.6373 - accuracy: 0.1958 - val_loss: 1.5852 - val_accuracy: 0.3500\n",
            "Epoch 2/120\n",
            "24/24 [==============================] - 2s 66ms/step - loss: 1.6274 - accuracy: 0.2833 - val_loss: 1.5231 - val_accuracy: 0.3333\n",
            "Epoch 3/120\n",
            "24/24 [==============================] - 2s 68ms/step - loss: 1.5462 - accuracy: 0.2958 - val_loss: 1.2734 - val_accuracy: 0.4667\n",
            "Epoch 4/120\n",
            "24/24 [==============================] - 2s 68ms/step - loss: 1.4088 - accuracy: 0.4042 - val_loss: 1.0202 - val_accuracy: 0.5500\n",
            "Epoch 5/120\n",
            "24/24 [==============================] - 2s 69ms/step - loss: 1.3089 - accuracy: 0.4708 - val_loss: 1.0733 - val_accuracy: 0.5667\n",
            "Epoch 6/120\n",
            "24/24 [==============================] - 2s 70ms/step - loss: 1.3724 - accuracy: 0.4833 - val_loss: 1.0202 - val_accuracy: 0.5833\n",
            "Epoch 7/120\n",
            "24/24 [==============================] - 2s 68ms/step - loss: 1.1149 - accuracy: 0.5333 - val_loss: 0.8094 - val_accuracy: 0.6667\n",
            "Epoch 8/120\n",
            "24/24 [==============================] - 2s 69ms/step - loss: 1.0501 - accuracy: 0.5708 - val_loss: 1.2663 - val_accuracy: 0.5500\n",
            "Epoch 9/120\n",
            "24/24 [==============================] - 2s 69ms/step - loss: 0.9549 - accuracy: 0.5875 - val_loss: 0.6400 - val_accuracy: 0.6333\n",
            "Epoch 10/120\n",
            "24/24 [==============================] - 2s 69ms/step - loss: 0.9239 - accuracy: 0.5792 - val_loss: 1.2648 - val_accuracy: 0.6167\n",
            "Epoch 11/120\n",
            "24/24 [==============================] - 2s 69ms/step - loss: 1.1450 - accuracy: 0.5917 - val_loss: 0.7790 - val_accuracy: 0.6833\n",
            "Epoch 12/120\n",
            "24/24 [==============================] - 2s 70ms/step - loss: 0.8157 - accuracy: 0.6833 - val_loss: 0.6905 - val_accuracy: 0.8000\n",
            "Epoch 13/120\n",
            "24/24 [==============================] - 2s 68ms/step - loss: 0.8126 - accuracy: 0.6833 - val_loss: 0.6202 - val_accuracy: 0.6833\n",
            "Epoch 14/120\n",
            "24/24 [==============================] - 2s 69ms/step - loss: 0.8251 - accuracy: 0.6583 - val_loss: 0.3877 - val_accuracy: 0.7000\n",
            "Epoch 15/120\n",
            "24/24 [==============================] - 2s 69ms/step - loss: 0.7312 - accuracy: 0.6667 - val_loss: 0.7976 - val_accuracy: 0.6667\n",
            "Epoch 16/120\n",
            "24/24 [==============================] - 2s 71ms/step - loss: 0.7436 - accuracy: 0.7000 - val_loss: 0.7930 - val_accuracy: 0.7333\n",
            "Epoch 17/120\n",
            "24/24 [==============================] - 2s 69ms/step - loss: 0.7201 - accuracy: 0.7167 - val_loss: 1.0876 - val_accuracy: 0.6333\n",
            "Epoch 18/120\n",
            "24/24 [==============================] - 2s 68ms/step - loss: 0.6617 - accuracy: 0.7333 - val_loss: 0.3835 - val_accuracy: 0.7667\n",
            "Epoch 19/120\n",
            "24/24 [==============================] - 2s 71ms/step - loss: 0.6397 - accuracy: 0.7542 - val_loss: 0.7306 - val_accuracy: 0.6833\n",
            "Epoch 20/120\n",
            "24/24 [==============================] - 2s 68ms/step - loss: 0.6310 - accuracy: 0.7750 - val_loss: 0.6404 - val_accuracy: 0.7333\n",
            "Epoch 21/120\n",
            "24/24 [==============================] - 2s 70ms/step - loss: 0.5887 - accuracy: 0.7708 - val_loss: 0.4232 - val_accuracy: 0.7333\n",
            "Epoch 22/120\n",
            "24/24 [==============================] - 2s 71ms/step - loss: 0.5427 - accuracy: 0.7917 - val_loss: 1.2744 - val_accuracy: 0.7667\n",
            "Epoch 23/120\n",
            "24/24 [==============================] - 2s 73ms/step - loss: 0.5964 - accuracy: 0.7708 - val_loss: 0.3071 - val_accuracy: 0.7500\n",
            "Epoch 24/120\n",
            "24/24 [==============================] - 2s 72ms/step - loss: 0.5655 - accuracy: 0.7917 - val_loss: 0.8647 - val_accuracy: 0.6000\n",
            "Epoch 25/120\n",
            "24/24 [==============================] - 2s 75ms/step - loss: 0.4832 - accuracy: 0.8000 - val_loss: 0.3234 - val_accuracy: 0.7833\n",
            "Epoch 26/120\n",
            "24/24 [==============================] - 2s 75ms/step - loss: 0.4626 - accuracy: 0.8333 - val_loss: 0.7306 - val_accuracy: 0.7167\n",
            "Epoch 27/120\n",
            "24/24 [==============================] - 2s 73ms/step - loss: 0.4931 - accuracy: 0.8042 - val_loss: 1.1108 - val_accuracy: 0.7333\n",
            "Restoring model weights from the end of the best epoch\n",
            "Epoch 00027: early stopping\n"
          ],
          "name": "stdout"
        }
      ]
    },
    {
      "cell_type": "code",
      "metadata": {
        "id": "ZPaqnqC-nNYC",
        "colab_type": "code",
        "colab": {
          "base_uri": "https://localhost:8080/",
          "height": 294
        },
        "outputId": "845f3911-cf0c-4f80-ba33-ea283cade308"
      },
      "source": [
        "# Graphic-----------\n",
        "import matplotlib.pyplot as plt\n",
        "\n",
        "plt.plot(history.history['accuracy'])\n",
        "plt.plot(history.history['val_accuracy'])\n",
        "plt.title('model accuracy')\n",
        "plt.ylabel('accuracy')\n",
        "plt.xlabel('epoch')\n",
        "plt.legend(['train', 'test'], loc='upper left')\n",
        "plt.show()"
      ],
      "execution_count": null,
      "outputs": [
        {
          "output_type": "display_data",
          "data": {
            "image/png": "[encoded data removed]",
            "text/plain": [
              "<Figure size 432x288 with 1 Axes>"
            ]
          },
          "metadata": {
            "tags": [],
            "needs_background": "light"
          }
        }
      ]
    }
  ]
}